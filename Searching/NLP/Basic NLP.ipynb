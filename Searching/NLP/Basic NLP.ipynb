{
 "cells": [
  {
   "cell_type": "code",
   "execution_count": 1,
   "metadata": {},
   "outputs": [],
   "source": [
    "from nltk.tokenize import sent_tokenize \n",
    "from nltk.tokenize import word_tokenize\n",
    "from nltk.corpus import stopwords\n",
    "from nltk.stem.porter import PorterStemmer"
   ]
  },
  {
   "cell_type": "code",
   "execution_count": 2,
   "metadata": {},
   "outputs": [],
   "source": [
    "import string"
   ]
  },
  {
   "cell_type": "code",
   "execution_count": 3,
   "metadata": {},
   "outputs": [],
   "source": [
    "paragraph = \"\"\"I have three visions for India. In 3000 years of our history, people from all over the \n",
    "world have come and invaded us, captured our lands, conquered our minds. From Alexander \n",
    "onwards, the Greeks, the Turks, the Moguls, the Portuguese, the British, the French, the Dutch, all \n",
    "of them came and looted us, took over what was ours. Yet we have not done this to any other \n",
    "nation. We have not conquered anyone. We have not grabbed their land, their culture, their history \n",
    "and tried to enforce our way of life on them. Why? Because we respect the freedom of others. That \n",
    "is why my first vision is that of freedom. I believe that India got its first vision of this in 1857, \n",
    "when we started the War of Independence. It is this freedom that we must protect and nurture and \n",
    "build on. If we are not free, no one will respect us. My second vision for India’s development. For \n",
    "fifty years we have been a developing nation. It is time we see ourselves as a developed nation. We \n",
    "are among the top 5 nations of the world in terms of GDP. We have a 10 percent growth rate in \n",
    "most areas. Our poverty levels are falling. Our achievements are being globally recognised today. \n",
    "Yet we lack the self-confidence to see ourselves as a developed nation, self-reliant and self\u0002assured. Isn’t this incorrect? I have a third vision. India must stand up to the world. Because I \n",
    "believe that unless India stands up to the world, no one will respect us. Only strength respects \n",
    "strength. We must be strong not only as a military power but also as an economic power. Both \n",
    "must go hand-in-hand. My good fortune was to have worked with three great minds. Dr. Vikram \n",
    "Sarabhai of the Dept. of space, Professor Satish Dhawan, who succeeded him and Dr. Brahm \n",
    "Prakash, father of nuclear material. I was lucky to have worked with all three of them closely and \n",
    "consider this the great opportunity of my life. I see four milestones in my career\"\"\"\n"
   ]
  },
  {
   "cell_type": "code",
   "execution_count": 4,
   "metadata": {},
   "outputs": [],
   "source": [
    "paragraph = paragraph.lower()"
   ]
  },
  {
   "cell_type": "code",
   "execution_count": 5,
   "metadata": {},
   "outputs": [],
   "source": [
    "ps          = PorterStemmer()\n",
    "stop_words  = set(stopwords.words('english'))\n",
    "punctuation = set(string.punctuation)               # !\"#$%&'()*+,-./:;<=>?@[\\]^_`{|}~"
   ]
  },
  {
   "cell_type": "code",
   "execution_count": 6,
   "metadata": {},
   "outputs": [],
   "source": [
    "sentences = sent_tokenize(paragraph)\n",
    "\n",
    "for i in range(len(sentences)):\n",
    "    words = word_tokenize(sentences[i])\n",
    "    words = [ps.stem(word)     for word in words     if word not in stop_words]\n",
    "    sentences[i] = ' '.join(words)"
   ]
  },
  {
   "cell_type": "code",
   "execution_count": 7,
   "metadata": {},
   "outputs": [
    {
     "name": "stdout",
     "output_type": "stream",
     "text": [
      "['three', 'vision', 'india', '3000', 'year', 'histori', 'peopl', 'world', 'come', 'invad', 'us', 'captur', 'land', 'conquer', 'mind', 'alexand', 'onward', 'greek', 'turk', 'mogul', 'portugues', 'british', 'french', 'dutch', 'came', 'loot', 'us', 'took', 'yet', 'done', 'nation', 'conquer', 'anyon', 'grab', 'land', 'cultur', 'histori', 'tri', 'enforc', 'way', 'life', 'respect', 'freedom', 'other', 'first', 'vision', 'freedom', 'believ', 'india', 'got', 'first', 'vision', '1857', 'start', 'war', 'independ', 'freedom', 'must', 'protect', 'nurtur', 'build', 'free', 'one', 'respect', 'us', 'second', 'vision', 'india', '’', 'develop', 'fifti', 'year', 'develop', 'nation', 'time', 'see', 'develop', 'nation', 'among', 'top', '5', 'nation', 'world', 'term', 'gdp', '10', 'percent', 'growth', 'rate', 'area', 'poverti', 'level', 'fall', 'achiev', 'global', 'recognis', 'today', 'yet', 'lack', 'self-confid', 'see', 'develop', 'nation', 'self-reli', 'self\\x02assur', '’', 'incorrect', 'third', 'vision', 'india', 'must', 'stand', 'world', 'believ', 'unless', 'india', 'stand', 'world', 'one', 'respect', 'us', 'strength', 'respect', 'strength', 'must', 'strong', 'militari', 'power', 'also', 'econom', 'power', 'must', 'go', 'hand-in-hand', 'good', 'fortun', 'work', 'three', 'great', 'mind', 'dr.', 'vikram', 'sarabhai', 'dept', 'space', 'professor', 'satish', 'dhawan', 'succeed', 'dr.', 'brahm', 'prakash', 'father', 'nuclear', 'materi', 'lucki', 'work', 'three', 'close', 'consid', 'great', 'opportun', 'life', 'see', 'four', 'mileston', 'career']\n"
     ]
    }
   ],
   "source": [
    "# Removing Punctuation\n",
    "filtered = []\n",
    "\n",
    "for i in range(len(sentences)):\n",
    "    words = word_tokenize(sentences[i])\n",
    "    \n",
    "    for j in words:\n",
    "        if j not in punctuation :\n",
    "            filtered.append(j); \n",
    "\n",
    "print(filtered)"
   ]
  },
  {
   "cell_type": "code",
   "execution_count": null,
   "metadata": {},
   "outputs": [],
   "source": []
  }
 ],
 "metadata": {
  "kernelspec": {
   "display_name": "Python 3",
   "language": "python",
   "name": "python3"
  },
  "language_info": {
   "codemirror_mode": {
    "name": "ipython",
    "version": 3
   },
   "file_extension": ".py",
   "mimetype": "text/x-python",
   "name": "python",
   "nbconvert_exporter": "python",
   "pygments_lexer": "ipython3",
   "version": "3.8.5"
  }
 },
 "nbformat": 4,
 "nbformat_minor": 4
}
